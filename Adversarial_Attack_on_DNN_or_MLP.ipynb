{
  "nbformat": 4,
  "nbformat_minor": 0,
  "metadata": {
    "colab": {
      "provenance": [],
      "collapsed_sections": [],
      "include_colab_link": true
    },
    "kernelspec": {
      "name": "python3",
      "display_name": "Python 3"
    },
    "accelerator": "GPU"
  },
  "cells": [
    {
      "cell_type": "markdown",
      "metadata": {
        "id": "view-in-github",
        "colab_type": "text"
      },
      "source": [
        "<a href=\"https://colab.research.google.com/github/hammaad2002/AdversarialAttack/blob/main/Adversarial_Attack_on_DNN_or_MLP.ipynb\" target=\"_parent\"><img src=\"https://colab.research.google.com/assets/colab-badge.svg\" alt=\"Open In Colab\"/></a>"
      ]
    },
    {
      "cell_type": "code",
      "source": [
        "!pip install adversarial-robustness-toolbox[Keras]"
      ],
      "metadata": {
        "id": "0GeYyO4IJN64",
        "outputId": "b5ec9a9d-d475-4c9f-d413-955ba021746b",
        "colab": {
          "base_uri": "https://localhost:8080/"
        }
      },
      "execution_count": 7,
      "outputs": [
        {
          "output_type": "stream",
          "name": "stdout",
          "text": [
            "Looking in indexes: https://pypi.org/simple, https://us-python.pkg.dev/colab-wheels/public/simple/\n",
            "Requirement already satisfied: adversarial-robustness-toolbox[Keras] in /usr/local/lib/python3.7/dist-packages (1.12.1)\n",
            "Requirement already satisfied: numpy>=1.18.0 in /usr/local/lib/python3.7/dist-packages (from adversarial-robustness-toolbox[Keras]) (1.21.6)\n",
            "Requirement already satisfied: six in /usr/local/lib/python3.7/dist-packages (from adversarial-robustness-toolbox[Keras]) (1.15.0)\n",
            "Requirement already satisfied: tqdm in /usr/local/lib/python3.7/dist-packages (from adversarial-robustness-toolbox[Keras]) (4.64.1)\n",
            "Requirement already satisfied: scipy>=1.4.1 in /usr/local/lib/python3.7/dist-packages (from adversarial-robustness-toolbox[Keras]) (1.7.3)\n",
            "Requirement already satisfied: numba>=0.53.1 in /usr/local/lib/python3.7/dist-packages (from adversarial-robustness-toolbox[Keras]) (0.56.3)\n",
            "Requirement already satisfied: scikit-learn<1.1.0,>=0.22.2 in /usr/local/lib/python3.7/dist-packages (from adversarial-robustness-toolbox[Keras]) (1.0.2)\n",
            "Requirement already satisfied: setuptools in /usr/local/lib/python3.7/dist-packages (from adversarial-robustness-toolbox[Keras]) (57.4.0)\n",
            "Requirement already satisfied: h5py in /usr/local/lib/python3.7/dist-packages (from adversarial-robustness-toolbox[Keras]) (3.1.0)\n",
            "Requirement already satisfied: keras in /usr/local/lib/python3.7/dist-packages (from adversarial-robustness-toolbox[Keras]) (2.9.0)\n",
            "Requirement already satisfied: llvmlite<0.40,>=0.39.0dev0 in /usr/local/lib/python3.7/dist-packages (from numba>=0.53.1->adversarial-robustness-toolbox[Keras]) (0.39.1)\n",
            "Requirement already satisfied: importlib-metadata in /usr/local/lib/python3.7/dist-packages (from numba>=0.53.1->adversarial-robustness-toolbox[Keras]) (4.13.0)\n",
            "Requirement already satisfied: joblib>=0.11 in /usr/local/lib/python3.7/dist-packages (from scikit-learn<1.1.0,>=0.22.2->adversarial-robustness-toolbox[Keras]) (1.2.0)\n",
            "Requirement already satisfied: threadpoolctl>=2.0.0 in /usr/local/lib/python3.7/dist-packages (from scikit-learn<1.1.0,>=0.22.2->adversarial-robustness-toolbox[Keras]) (3.1.0)\n",
            "Requirement already satisfied: cached-property in /usr/local/lib/python3.7/dist-packages (from h5py->adversarial-robustness-toolbox[Keras]) (1.5.2)\n",
            "Requirement already satisfied: zipp>=0.5 in /usr/local/lib/python3.7/dist-packages (from importlib-metadata->numba>=0.53.1->adversarial-robustness-toolbox[Keras]) (3.9.0)\n",
            "Requirement already satisfied: typing-extensions>=3.6.4 in /usr/local/lib/python3.7/dist-packages (from importlib-metadata->numba>=0.53.1->adversarial-robustness-toolbox[Keras]) (4.1.1)\n"
          ]
        }
      ]
    },
    {
      "cell_type": "code",
      "source": [
        "import tensorflow as tf\n",
        "tf.compat.v1.disable_eager_execution()\n",
        "from tensorflow.keras.datasets import mnist\n",
        "import numpy as np\n",
        "from tensorflow import keras\n",
        "from tensorflow.keras import layers\n",
        "#importing ART toolbox\n",
        "from art.attacks.evasion import FastGradientMethod\n",
        "from art.estimators.classification import KerasClassifier\n",
        "\n",
        "#importing data from MNIST\n",
        "\n",
        "(train_images,train_labels),(test_images,test_labels) = mnist.load_data()\n",
        "\n",
        "#declaring layers of model\n",
        "\n",
        "model = keras.Sequential([\n",
        "    tf.keras.Input(shape=(28*28,)),\n",
        "    layers.Dense(512,activation='relu'),\n",
        "    layers.Dense(10 ,activation='softmax')\n",
        "])\n",
        "\n",
        "#hyperparameters declaration\n",
        "\n",
        "model.compile(loss='sparse_categorical_crossentropy', optimizer='RMSprop', metrics=[\"accuracy\"])\n",
        "\n",
        "#normalizing data\n",
        "\n",
        "train_images = train_images.reshape((60000,28*28))\n",
        "train_images = train_images.astype(\"float32\")/255\n",
        "test_images = test_images.reshape((10000,28*28))\n",
        "test_images = test_images.astype(\"float32\")/255\n",
        "\n",
        "#fitting or training model on normalized data\n",
        "\n",
        "classifier = KerasClassifier(model=model, clip_values=(0, 1), use_logits=False)\n",
        "classifier.fit(train_images, train_labels, batch_size=128, nb_epochs=5)\n",
        "\n",
        "#model.fit(train_images,train_labels,epochs=5,batch_size=128)"
      ],
      "metadata": {
        "id": "g2L18PR5otdF",
        "outputId": "da24faef-0685-4bd4-ab30-b5b86f682203",
        "colab": {
          "base_uri": "https://localhost:8080/"
        }
      },
      "execution_count": 8,
      "outputs": [
        {
          "output_type": "stream",
          "name": "stdout",
          "text": [
            "Train on 60000 samples\n",
            "Epoch 1/5\n",
            "60000/60000 [==============================] - 1s 20us/sample - loss: 0.2527 - accuracy: 0.9271\n",
            "Epoch 2/5\n",
            "60000/60000 [==============================] - 1s 17us/sample - loss: 0.1033 - accuracy: 0.9691\n",
            "Epoch 3/5\n",
            "60000/60000 [==============================] - 1s 18us/sample - loss: 0.0692 - accuracy: 0.9791\n",
            "Epoch 4/5\n",
            "60000/60000 [==============================] - 1s 17us/sample - loss: 0.0495 - accuracy: 0.9854\n",
            "Epoch 5/5\n",
            "60000/60000 [==============================] - 1s 17us/sample - loss: 0.0378 - accuracy: 0.9882\n"
          ]
        }
      ]
    },
    {
      "cell_type": "code",
      "source": [
        "#evaluating models on test data\n",
        "#test_loss,test_acc = model.evaluate(test_images,test_labels)\n",
        "#print(f\"test_acc:{test_acc*100}%\")\n",
        "\n",
        "predictions = classifier.predict(test_images)\n",
        "accuracy = np.sum(np.argmax(predictions,axis=-1) == test_labels) / len(test_labels)\n",
        "print(\"Accuracy on benign test examples: {}%\".format(accuracy * 100))"
      ],
      "metadata": {
        "id": "rWmwkIXzph7Q",
        "outputId": "3b2c3b95-a7f9-4ffd-9d0f-a326a9d7eded",
        "colab": {
          "base_uri": "https://localhost:8080/"
        }
      },
      "execution_count": 9,
      "outputs": [
        {
          "output_type": "stream",
          "name": "stdout",
          "text": [
            "Accuracy on benign test examples: 97.96000000000001%\n"
          ]
        }
      ]
    },
    {
      "cell_type": "code",
      "source": [
        "# Step 6: Generate adversarial test examples\n",
        "\n",
        "attack = FastGradientMethod(estimator=classifier, eps=0.2)\n",
        "x_test_adv = attack.generate(x=test_images)"
      ],
      "metadata": {
        "id": "A2q0m_6eK0rm"
      },
      "execution_count": 10,
      "outputs": []
    },
    {
      "cell_type": "code",
      "source": [
        "# Step 7: Evaluate the ART classifier on adversarial test examples\n",
        "\n",
        "predictions = classifier.predict(x_test_adv)\n",
        "accuracy = np.sum(np.argmax(predictions,axis=-1) == test_labels ) / len(test_labels)\n",
        "print(\"Accuracy on adversarial test examples: {}%\".format(accuracy * 100))"
      ],
      "metadata": {
        "id": "SC4TIZFPK9N4",
        "colab": {
          "base_uri": "https://localhost:8080/"
        },
        "outputId": "70df35cd-9e48-4178-ea04-fd1463fec725"
      },
      "execution_count": 11,
      "outputs": [
        {
          "output_type": "stream",
          "name": "stdout",
          "text": [
            "Accuracy on adversarial test examples: 2.3%\n"
          ]
        }
      ]
    },
    {
      "cell_type": "code",
      "source": [
        "#plotting adversarial examples\n",
        "from tensorflow.keras.datasets import mnist\n",
        "(train_images1,train_labels1),(test_images1,test_labels1) = mnist.load_data()\n",
        "import matplotlib.pyplot as plt\n",
        "import tensorflow as tf\n",
        "import random as rn\n",
        "temp= rn.randint(0,10000)\n",
        "z = x_test_adv[temp]\n",
        "z = tf.convert_to_tensor(z)\n",
        "z_new = tf.reshape(z, (28, 28))\n",
        "z_new = z_new.eval(session=tf.compat.v1.Session())\n",
        "plt.subplot(121)\n",
        "digit = test_images1[temp]\n",
        "plt.imshow(digit,cmap=plt.cm.binary)\n",
        "plt.title(\"Original Image\")\n",
        "plt.subplot(122)\n",
        "plt.imshow(z_new,cmap=plt.cm.binary)\n",
        "plt.title(\"Exploited Image\")\n",
        "plt.show()"
      ],
      "metadata": {
        "id": "y2c-bU8PpU3h",
        "outputId": "069d70a7-e1b7-4533-f9d2-7e43b396fac7",
        "colab": {
          "base_uri": "https://localhost:8080/",
          "height": 216
        }
      },
      "execution_count": 14,
      "outputs": [
        {
          "output_type": "display_data",
          "data": {
            "text/plain": [
              "<Figure size 432x288 with 2 Axes>"
            ],
            "image/png": "[encoded data removed]"
          },
          "metadata": {
            "needs_background": "light"
          }
        }
      ]
    },
    {
      "cell_type": "code",
      "source": [
        "predictions = classifier.predict( [x_test_adv[temp],]  )\n",
        "print(\"Prediction after performing attack: \",predictions.argmax())\n",
        "print(\"Ground truth: \",test_labels[temp])"
      ],
      "metadata": {
        "id": "yQw0PQ_Ipvro",
        "outputId": "cd4e5a70-c68e-483f-9950-f3e0a761b38c",
        "colab": {
          "base_uri": "https://localhost:8080/"
        }
      },
      "execution_count": 15,
      "outputs": [
        {
          "output_type": "stream",
          "name": "stdout",
          "text": [
            "Prediction after performing attack:  9\n",
            "Ground truth:  3\n"
          ]
        }
      ]
    }
  ]
}